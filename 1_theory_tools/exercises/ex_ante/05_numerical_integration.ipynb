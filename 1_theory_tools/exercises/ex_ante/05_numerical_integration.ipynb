{
 "cells": [
  {
   "cell_type": "code",
   "execution_count": 1,
   "metadata": {},
   "outputs": [],
   "source": [
    "# magics: ensures that any changes to the modules loaded below will be re-loaded automatically\n",
    "%load_ext autoreload\n",
    "%autoreload 2\n",
    "\n",
    "# load packages\n",
    "import numpy as np\n",
    "import tools"
   ]
  },
  {
   "cell_type": "markdown",
   "metadata": {},
   "source": [
    "# Exercise 5: Numerical Integration\n",
    "Consider the numerical integration problem\n",
    "$$\n",
    "\\int x^{2}dg(x),\\,\\,\\,x\\sim\\mathcal{N}(0,1)\n",
    "$$\n",
    "\n",
    "Note that we can analytically show that for $f(x)=x^{2}$ (it is the\n",
    "variance of $x$)\n",
    "$$\n",
    "\\int f(x)g(x)dx=1\n",
    "$$"
   ]
  },
  {
   "cell_type": "code",
   "execution_count": 2,
   "metadata": {},
   "outputs": [],
   "source": [
    "# Define the function \n",
    "f = lambda x: x**2"
   ]
  },
  {
   "cell_type": "markdown",
   "metadata": {},
   "source": [
    "### 1. Approximate the integral using *Monte Carlo integration*."
   ]
  },
  {
   "cell_type": "code",
   "execution_count": 9,
   "metadata": {},
   "outputs": [
    {
     "name": "stdout",
     "output_type": "stream",
     "text": [
      "1.0526807017178377\n"
     ]
    }
   ],
   "source": [
    "num_draws = 500 # number of MC draws\n",
    "np.random.seed(2023) # set seed to make sure the results are the same\n",
    "x_mc = np.random.normal(size=num_draws) # draw from standard normal distribution\n",
    "Efx_MC = np.mean(f(x_mc))\n",
    "print(Efx_MC)"
   ]
  },
  {
   "cell_type": "code",
   "execution_count": 4,
   "metadata": {},
   "outputs": [],
   "source": [
    "#Create a function for later use\n",
    "def integrate_MC(f,num_points):\n",
    "    np.random.seed(2023)\n",
    "    x = np.random.normal(size=num_points) \n",
    "    return np.mean(f(x))"
   ]
  },
  {
   "cell_type": "markdown",
   "metadata": {},
   "source": [
    "### 2. Approximate the integral using *Gauss-Hermite integration*."
   ]
  },
  {
   "attachments": {},
   "cell_type": "markdown",
   "metadata": {},
   "source": [
    "Gauss-Hermite approximation:\n",
    "\n",
    "\\begin{align*}\n",
    "    \\int_{-\\infty}^{\\infty} f(x) \\exp\\{-x^2\\} dx = \\sum^n_{i=1} \\omega_{gauss,i} f(x_{gauss,i}) +\\text{error term}\n",
    "\\end{align*}\n",
    "\n",
    "Hint: The goal is to rewrite the integration problem ,$\\int x^{2}dg(x),\\,\\,\\,x\\sim\\mathcal{N}(0,1)\n",
    "$, with a change of variable such that $g(z) = \\exp\\{-x^2\\}$, where z is the change of variable that makes the approximation work."
   ]
  },
  {
   "cell_type": "code",
   "execution_count": 18,
   "metadata": {},
   "outputs": [
    {
     "name": "stdout",
     "output_type": "stream",
     "text": [
      "[-1.65068012 -0.52464762  0.52464762  1.65068012] [0.08131284 0.80491409 0.80491409 0.08131284]\n",
      "1.0000000000000018\n"
     ]
    }
   ],
   "source": [
    "num_points = 4\n",
    "\n",
    "# get \"raw\" hermite nodes and weights\n",
    "x_gauss,w_gauss = tools.gauss_hermite(num_points)\n",
    "print(x_gauss,w_gauss)\n",
    "# adjust accordingly to the distribution X is drawn from. Here standard Gaussian\n",
    "mu = 0\n",
    "sd=1\n",
    "\n",
    "T = lambda x: mu+np.sqrt(2)*x_gauss*sd\n",
    "\n",
    "# evaluate expectation\n",
    "Efx_gauss = np.pi**-0.5*(f(T(x_gauss)) @ w_gauss)\n",
    "print(Efx_gauss)"
   ]
  },
  {
   "cell_type": "code",
   "execution_count": 20,
   "metadata": {},
   "outputs": [],
   "source": [
    "# construct function for use below\n",
    "def integrate_gauss(f,num_points):\n",
    "    x_gauss,w_gauss = tools.gauss_hermite(num_points)\n",
    "    x= np.pi**-0.5*((f(np.sqrt(2)*x_gauss)) @ w_gauss)\n",
    "    return x"
   ]
  },
  {
   "cell_type": "markdown",
   "metadata": {},
   "source": [
    "### 3. Compare the two methods across various number of grid points. How few grid points do you need for Gauss-Hermite integration?"
   ]
  },
  {
   "cell_type": "code",
   "execution_count": 21,
   "metadata": {},
   "outputs": [
    {
     "name": "stdout",
     "output_type": "stream",
     "text": [
      "Number of grid points:    1\n",
      "MC:    0.5065\n",
      "gauss: 0.0000\n",
      "True value:  1.0000\n",
      "time: 0.0010111332 seconds\n",
      "\n",
      "Number of grid points:    2\n",
      "MC:    0.3059\n",
      "gauss: 1.0000\n",
      "True value:  1.0000\n",
      "time: 0.0 seconds\n",
      "\n",
      "Number of grid points:    3\n",
      "MC:    0.5385\n",
      "gauss: 1.0000\n",
      "True value:  1.0000\n",
      "time: 0.0 seconds\n",
      "\n",
      "Number of grid points:    10\n",
      "MC:    2.1859\n",
      "gauss: 1.0000\n",
      "True value:  1.0000\n",
      "time: 0.0 seconds\n",
      "\n",
      "Number of grid points:    50\n",
      "MC:    1.1788\n",
      "gauss: 1.0000\n",
      "True value:  1.0000\n",
      "time: 0.0030062199 seconds\n",
      "\n",
      "Number of grid points:    100\n",
      "MC:    1.2652\n",
      "gauss: 1.0000\n",
      "True value:  1.0000\n",
      "time: 0.0050272942 seconds\n",
      "\n",
      "Number of grid points:    1000\n",
      "MC:    0.9973\n",
      "gauss: 1.0000\n",
      "True value:  1.0000\n",
      "time: 2.9167092 seconds\n",
      "\n",
      "Number of grid points:    3000\n",
      "MC:    0.9641\n",
      "True value:  1.0000\n",
      "time: 0.0 seconds\n",
      "\n",
      "Number of grid points:    900000\n",
      "MC:    0.9997\n",
      "True value:  1.0000\n",
      "time: 0.053081274 seconds\n",
      "\n"
     ]
    }
   ],
   "source": [
    "num_array = [1,2,3,10,50,100,1000,3000,900000]\n",
    "\n",
    "# We check the time\n",
    "import time\n",
    "\n",
    "for i,num in enumerate(num_array):   # i is the index, and num is the corresponding value: num_array[i]=num\n",
    "    t0 = time.time()  # set the starting time\n",
    "    print(f'Number of grid points:    {num}')\n",
    "    print(f'MC:    {integrate_MC(f,num):.4f}')\n",
    "    if num < 1500:\n",
    "        print(f'gauss: {integrate_gauss(f,num):.4f}')\n",
    "    print(f'True value:  {1:.4f}')\n",
    "    t1 = time.time() # set the ending time\n",
    "    print(f'time: {t1-t0:.8} seconds') # print the total time\n",
    "    print(f'')"
   ]
  },
  {
   "cell_type": "markdown",
   "metadata": {},
   "source": [
    "### 4. Change the function f and see what happens."
   ]
  },
  {
   "cell_type": "code",
   "execution_count": 22,
   "metadata": {},
   "outputs": [
    {
     "name": "stdout",
     "output_type": "stream",
     "text": [
      "Number of grid points:    1\n",
      "gauss: 1.0000\n",
      "MC:    2.0374\n",
      "True value:  1.6487\n",
      "\n",
      "Number of grid points:    2\n",
      "gauss: 1.5431\n",
      "MC:    1.3801\n",
      "True value:  1.6487\n",
      "\n",
      "Number of grid points:    3\n",
      "gauss: 1.6382\n",
      "MC:    1.0425\n",
      "True value:  1.6487\n",
      "\n",
      "Number of grid points:    4\n",
      "gauss: 1.6480\n",
      "MC:    1.0985\n",
      "True value:  1.6487\n",
      "\n",
      "Number of grid points:    5\n",
      "gauss: 1.6487\n",
      "MC:    1.0594\n",
      "True value:  1.6487\n",
      "\n",
      "Number of grid points:    10\n",
      "gauss: 1.6487\n",
      "MC:    2.5204\n",
      "True value:  1.6487\n",
      "\n",
      "Number of grid points:    50\n",
      "gauss: 1.6487\n",
      "MC:    1.5695\n",
      "True value:  1.6487\n",
      "\n",
      "Number of grid points:    100\n",
      "gauss: 1.6487\n",
      "MC:    1.7393\n",
      "True value:  1.6487\n",
      "\n",
      "Number of grid points:    500\n",
      "gauss: 1.6487\n",
      "MC:    1.6985\n",
      "True value:  1.6487\n",
      "\n",
      "Number of grid points:    3000\n",
      "MC:    1.5847\n",
      "True value:  1.6487\n",
      "\n"
     ]
    }
   ],
   "source": [
    "num_array = [1,2,3,4,5,10,50,100,500,3000]\n",
    "\n",
    "# New function\n",
    "g = lambda x: np.exp(x)\n",
    "\n",
    "for i,num in enumerate(num_array): # i is the index, and num is the corresponding value: num_array[i]=num\n",
    "    print(f'Number of grid points:    {num}')\n",
    "    if num < 1500:\n",
    "        print(f'gauss: {integrate_gauss(g,num):.4f}')\n",
    "    print(f'MC:    {integrate_MC(g,num):.4f}')\n",
    "    print(f'True value:  {np.exp(1/2):.4f}')\n",
    "    print(f'')"
   ]
  }
 ],
 "metadata": {
  "kernelspec": {
   "display_name": "base",
   "language": "python",
   "name": "python3"
  },
  "language_info": {
   "codemirror_mode": {
    "name": "ipython",
    "version": 3
   },
   "file_extension": ".py",
   "mimetype": "text/x-python",
   "name": "python",
   "nbconvert_exporter": "python",
   "pygments_lexer": "ipython3",
   "version": "3.9.16"
  },
  "vscode": {
   "interpreter": {
    "hash": "d23f3ceec305a45481076084313530cecc6283a24046b34365f00383ab0a81b1"
   }
  }
 },
 "nbformat": 4,
 "nbformat_minor": 4
}
