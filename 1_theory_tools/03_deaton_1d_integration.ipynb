{
 "cells": [
  {
   "cell_type": "markdown",
   "metadata": {
    "slideshow": {
     "slide_type": "slide"
    }
   },
   "source": [
    "# Dynamic Programming and Structural Econometrics #3\n",
    "\n",
    "### Stochastic DP, 1-d Numerical Integration, Deaton's model\n",
    "\n",
    "**Readings:** \n",
    "- 📖 Judd, K. L. (1998). Numerical methods in economics. MIT press. Sections 7.1-7.5, 8.2\n",
    "- 📖 Angus Deaton: \"Saving and Liquidity constraints\" *Econometrica* 59.5 (1991): 1221-1248. ([link to paper](https://www.princeton.edu/~deaton/downloads/Saving_and_Liquidity_Constraints.pdf))\n",
    "- 📖 Jerome Adda and Russell Cooper “Dynamic Economics. Quantitative Methods and Applications.” Sections 3.2 and section 6.3.5.\n",
    "\n",
    "by Bertel Schjerning\n",
    "\n",
    "University of Copenhagen\n"
   ]
  },
  {
   "cell_type": "markdown",
   "metadata": {
    "slideshow": {
     "slide_type": "slide"
    }
   },
   "source": [
    "### This lecture\n",
    "1. Stochastic DP and choice under uncertainty \n",
    "\n",
    "    When random shocks to future states has continuous support $\\rightarrow$ need to solve integrals\n",
    "    \n",
    "    \n",
    "2. Numerical Integration: Quadrature methods and Monte Carlo (in 1d)\n",
    "\n",
    "\n",
    "3. Example: Consumption with stochastic income and liquidity constraints (Deaton's model)\n"
   ]
  },
  {
   "cell_type": "markdown",
   "metadata": {
    "slideshow": {
     "slide_type": "slide"
    }
   },
   "source": [
    "### The Bellman Equation for the general MDP framework\n",
    "- The bellman equation for the **infinite horizon**, $T = \\infty$ \n",
    "$$\n",
    "V(s)=  \\max_{d \\in D(s)} \\big[u(s, d) + \\beta \\int V(s')p(ds'|s, d)  \\big]\n",
    "$$ \n",
    "- The bellman equation for the **finite horizon**, $T < \\infty$ \n",
    "$$\n",
    "V_t(s_t)= \\max_{d_t \\in D(s_t)} \\big[u_t(s_t, d_t) + \\beta \\int V_{t+1}(s_{t+1})p(ds_{t+1}|s_t, d_t)  \\big]\n",
    "$$\n",
    "- So far we have only considered the cases of ether deterministic state transition or cases with shocks that has a finite number of support points.  \n",
    "- When agents make choices under *uncertainty about future states* $\\rightarrow$  $p(s_{t+1}|s_t, d_t)$ is not degenerate. \n",
    "- If the stochastic shocks to have *continuous support* $\\rightarrow$ integral does not turn in to a sum. \n",
    "- **Need to solve the integral** to obtain the expected future value conditional current states and choices"
   ]
  },
  {
   "cell_type": "markdown",
   "metadata": {
    "slideshow": {
     "slide_type": "slide"
    }
   },
   "source": [
    "### The integral\n",
    "$$\n",
    "E[V_{t+1}(s_{t+1})|s_t, d_t]=\\int V_{t+1}(s_{t+1})p(ds_{t+1}|s_t, d_t)\n",
    "$$\n",
    "- If $p(s_{t+1}|s_t, d_t)$ is discrete, the integral is replaced by a weighted sum which is trivial to compute, so we focus on the continuous case\n",
    "- For each value of $s_t$ and $d_t$ we need to compute the mean of function of a stochastic variable\n",
    "- Clearly we need to compute the mean of a function of a stochastic variable\n",
    "$$\n",
    "E[f(x)]=\\int f(x)g(x)dx\n",
    "$$\n",
    "where\n",
    "- $x$ is the next period state, $x=s_{t+1}$, \n",
    "- $f(x)$ is the value function $V_{t+1}(s_{t+1})$\n",
    "- $g(x)$ is the conditional transition density $p(s_{t+1}|s_t, d_t)$ "
   ]
  },
  {
   "cell_type": "markdown",
   "metadata": {
    "slideshow": {
     "slide_type": "slide"
    }
   },
   "source": [
    "### Numerical integration - Three standard methods:\n",
    "\n",
    "- **Discretization** \n",
    "    - Idea: divide the continuous support into intervals and integrate each part to obtain probabilities of falling into each interval\n",
    "    - If for example $p(s_{t+1}|s_t, d_t)$ follows a simple autoregressive process $s_{t+1}=\\rho s_{t} + \\epsilon_t$ we can discretize $s_t$ in $I$ points ${s_i}^{I}_{i=1}$ and use **Tauchen's method** to approximate $p(s_{t+1}|s_t, d_t)$ by a discrete Markov chain with a $I \\times I$ transition matrix $\\Pi$ with elements $\\pi_{i,j}=Prob(s_{t+1}=s_j|s_t=s_i, d_t)$\n",
    "\n",
    "\n",
    "- **Monte Carlo integration**\n",
    "    1. sample $N$ points $\\mathbf{x}_1,\\cdots,\\mathbf{x}_N$ from $g(\\mathbf{x})$ \n",
    "    1. approximate the mean $E[f(\\mathbf{x}])$ by the sample average\n",
    "$$\n",
    "E[f(\\mathbf{x}])\\approx Q_{N}\\equiv {\\frac  {1}{N}}\\sum _{{i=1}}^{N}f(\\mathbf  {x}_{i})\n",
    "$$\n",
    "\n",
    "- **Quadrature integration**\n",
    "    - Based on the non-random points and weights.\n"
   ]
  },
  {
   "cell_type": "markdown",
   "metadata": {
    "slideshow": {
     "slide_type": "slide"
    }
   },
   "source": [
    "## Simple static example: Expected utility of random consumption\n",
    "- Before we go the whole nine yards and compute the expected value, $EV(s,d) = \\int V(s')p(ds'|s, d)$, let's first consider the simple task of computing expected value of a known function. \n",
    "- Consider the crra utility function\n",
    "$$\n",
    "u(c)={\\begin{cases}{\\frac {c^{1-\\eta }-1}{1-\\eta }}&\\eta \\geq 0,\\eta \\neq 1\\\\\\ln(c)&\\eta =1\\end{cases}}\n",
    "$$\n",
    "\n",
    "- How to compute $E[u(x)])=\\int u(x)g(x)dx$ when $g(x)$ is density of lognormal, i.e.  $\\ln(x) \\sim N(\\mu, \\sigma)$"
   ]
  },
  {
   "cell_type": "code",
   "execution_count": 1,
   "metadata": {
    "scrolled": false
   },
   "outputs": [],
   "source": [
    "def u(c,η=1): # utility function\n",
    "    '''CRRA utility with parameter η, (η=0: linear, η=1: log, η>1: more risk averse than log)'''\n",
    "    if η==1:\n",
    "        return np.log(c)\n",
    "    elif η>=0:\n",
    "        return (c**(1-η) -1)/(1-η)\n",
    "    else: \n",
    "        RuntimeError('η must greater or equal to zero')"
   ]
  },
  {
   "cell_type": "markdown",
   "metadata": {
    "slideshow": {
     "slide_type": "-"
    }
   },
   "source": [
    "- How to compute $E[u(x)])$ when $\\ln(x) \\sim N(\\mu, \\sigma)$\n",
    "- Let's first do Monte Carlo"
   ]
  },
  {
   "cell_type": "markdown",
   "metadata": {
    "slideshow": {
     "slide_type": "slide"
    }
   },
   "source": [
    "### Compute $E[u(x)])$ when $\\ln(x) \\sim N(\\mu, \\sigma)$ using Monte Carlo\n"
   ]
  },
  {
   "cell_type": "code",
   "execution_count": 2,
   "metadata": {
    "scrolled": false
   },
   "outputs": [
    {
     "name": "stdout",
     "output_type": "stream",
     "text": [
      "Estimate of E[u(x)]                   :  2.0131736876056068\n",
      "Standard error of estimate of E[(u,x)]:  0.03317295017227156\n"
     ]
    }
   ],
   "source": [
    "import numpy as np\n",
    "n=1000       # Number of Monte Carlo samples\n",
    "η=1;          # CRRA utility parameter\n",
    "μ=2; σ=1;     # Location and scale parameters for ln(x)~ N(μ, σ)$\n",
    "\n",
    "x = np.random.lognormal(μ, σ, n)\n",
    "fx=u(x, η)\n",
    "Qn = np.mean(fx)\n",
    "se_Qn=np.std(fx)/np.sqrt(n)\n",
    "print('Estimate of E[u(x)]                   : ', Qn)\n",
    "print('Standard error of estimate of E[(u,x)]: ', se_Qn)"
   ]
  },
  {
   "cell_type": "markdown",
   "metadata": {
    "slideshow": {
     "slide_type": "slide"
    }
   },
   "source": [
    "### Newton-Cotes quadrature formulas\n",
    "\n",
    "Goal: definite integral $ \\int_a^b f(x) dx $\n",
    "\n",
    "Idea: Approximate the function with low order polynomial, then integrate\n",
    "approximation\n",
    "\n",
    "1. Constant approximation - level at midpoint of $ [a,b] $  \n",
    "  $$ \n",
    "  \\int_{a}^{b}f(x)\\,dx\\approx (b-a)f\\left(\\frac{a+b}{2}\\right) $$\n",
    "1. Linear approximation - Trapezoid rule  \n",
    " \n",
    "  $$ \\int _{a}^{b}f(x)\\,dx\\approx {\\frac {b-a}{2}}\\left[f(a)+f(b)\\right] $$\n",
    "\n",
    "1. Quadratic approximation - Simpson rule  \n",
    "\n",
    "  $$ \\int _{a}^{b}f(x)\\,dx\\approx {\\frac {b-a}{6}}\\left[f(a)+4f\\left({\\frac {a+b}{2}}\\right)+f(b)\\right] $$\n"
   ]
  },
  {
   "cell_type": "markdown",
   "metadata": {
    "slideshow": {
     "slide_type": "slide"
    }
   },
   "source": [
    "### Composite Newton-Cotes\n",
    "\n",
    "Preform Newton-Cotes on a grid separately on each interval\n",
    "\n",
    "- Equally spaced points  \n",
    "- Newton-Cotes on each sub-interval  \n",
    "\n",
    "\n",
    "**Example: Simsons-Rule (based on quadratic approximation)**\n",
    "\n",
    "Dividing the interval $[a,b]$ into $n$ subintervals of length  $h=(b-a)/n$ and introducing the points  $x_i = a + ih$ for  $0\\leq i\\leq n$ (in particular, $x_0 = a$ and  $x_{n}=b$), we have \n",
    "\n",
    "$$\\begin{aligned}\n",
    "\\int _{a}^{b}f(x)\\,dx&\\approx {\\frac {1}{3}}h\\sum _{i=1}^{n/2}{\\big [}f(x_{2i-2})+4f(x_{2i-1})+f(x_{2i}){\\big ]}\\\\&={\\frac {1}{3}}h{\\big [}f(x_{0})+4f(x_{1})+2f(x_{2})+4f(x_{3})+2f(x_{4})+\\dots +2f(x_{n-2})+4f(x_{n-1})+f(x_{n}){\\big ]}\\\\&={\\frac {1}{3}}h\\left[f(x_{0})+4\\sum _{i=1}^{n/2}f(x_{2i-1})+2\\sum _{i=1}^{n/2-1}f(x_{2i})+f(x_{n})\\right].\n",
    "\\end{aligned}$$\n",
    "\n",
    "\n",
    "\n",
    "*Note that the points are placed exogenously*"
   ]
  },
  {
   "cell_type": "markdown",
   "metadata": {
    "slideshow": {
     "slide_type": "slide"
    }
   },
   "source": [
    "### Gaussian quadrature\n",
    "\n",
    "General formula\n",
    "\n",
    "$$\n",
    "\\int_a^b f(x)w(x) dx = \\sum_{i=1}^n \\omega_i f(x_i) + \\text{approximation error}\n",
    "$$\n",
    "\n",
    "- $ \\omega_i $ quadrature weights\n",
    "- $ x_i \\in [a,b] $ quadrature nodes  \n",
    "- $w(x)$ non-negative weighting function\n",
    "- choice of quadrature method differ by weighting function $w(x)$ and domain $[a, b]$\n",
    "- **Key property:** nodes and weights are chosen so that there is **no approximation error if $f(x)$ belongs to the family of $2n-1$ degree polynomials**\n"
   ]
  },
  {
   "cell_type": "markdown",
   "metadata": {
    "slideshow": {
     "slide_type": "slide"
    }
   },
   "source": [
    "### Gaussian quadrature\n",
    "$$\n",
    "\\int_a^b f(x)w(x) dx = \\sum_{i=1}^n \\omega_i f(x_i) + \\text{approximation error}\n",
    "$$\n",
    "\n",
    "1. Gauss-Legendre Quadrature ($w(x)=1$, domain $[a, b]$)\n",
    "1. Gauss-Hermite Quadrature ($w(x)=\\exp(−𝑥^2)$, domain  $[-\\infty, \\infty]$)\n",
    "1. Gauss-Chebyshev Quadrature ($w(x)=(1-x^2)^{(-1/2)} $, domain  $[a, b]$)\n",
    "1. Gauss-Laguerre Quadrature ($w(x)=\\exp(−𝑥)$, domain  $[a, \\infty]$)\n",
    "\n",
    "We will look at **Gauss-Legendre** and **Gauss-Hermite**\n"
   ]
  },
  {
   "cell_type": "markdown",
   "metadata": {
    "slideshow": {
     "slide_type": "slide"
    }
   },
   "source": [
    "### Weights and nodes"
   ]
  },
  {
   "cell_type": "code",
   "execution_count": 3,
   "metadata": {
    "scrolled": false,
    "slideshow": {
     "slide_type": "-"
    }
   },
   "outputs": [
    {
     "data": {
      "image/png": "[encoded data removed]",
      "text/plain": [
       "<Figure size 2200x400 with 4 Axes>"
      ]
     },
     "metadata": {},
     "output_type": "display_data"
    }
   ],
   "source": [
    "import numpy as np\n",
    "import matplotlib.pyplot as plt\n",
    "n=10 # number of nodes\n",
    "quad_methods= [np.polynomial.legendre.leggauss, np.polynomial.hermite.hermgauss,  \n",
    "              np.polynomial.chebyshev.chebgauss, np.polynomial.laguerre.laggauss]\n",
    "label= [\"Gauss-Legendre $[-1,1]$\", \"Gauss-Hermite  $[-\\infty,\\infty]$\",  \n",
    "        \"Gauss-Chebyshev $[-1,1]$\", \"Gauss-Laguerre $[0,\\infty]$\"]\n",
    "fig, axs = plt.subplots(1, len(label), figsize=(22,4))\n",
    "for i, method in enumerate(quad_methods): \n",
    "    x, w = quad_methods[i](n)\n",
    "    axs[i].scatter(x, w)\n",
    "    axs[i].set_title(label[i], fontsize=18)\n",
    "plt.show()"
   ]
  },
  {
   "cell_type": "markdown",
   "metadata": {
    "slideshow": {
     "slide_type": "slide"
    }
   },
   "source": [
    "## Gauss-Legendre Quadrature\n",
    "\n",
    "- Domain $ [-1,1]$ .. or   $[a,b]$\n",
    "- Weighting $ w(x)=1 $  \n",
    "$$\n",
    "\\int_{-1}^1 f(x) dx = \\sum_{i=1}^{n} \\omega_i f(x_i) + \\frac{2^{2n+1}(n!)^4}{(2n+1)!(2n)!}\\frac{f^{(2n)}(\\xi)}{(2n)!} \\\\\n",
    "$$\n",
    "for some $\\xi \\in [-1,1]$ .. or   $[a,b]$\n",
    "\n",
    "\n",
    "- Nodes $x_i$ as weights $w_i$\n",
    "    - Nodes are roots of Legendre polynomials\n",
    "    - Weights can for example be computes recusively (using Legendre polynomials)\n",
    "    - Lots of canned routines in Python\n",
    "- Good for computing integrals discounted sum of utility over finite horizons or expectation of random variables with finite support.\n",
    "- Can be used if transforming expectation using inverse CDF (has domain [0,1]]\n",
    "- The method of choice when no obvious weighting function can be used"
   ]
  },
  {
   "cell_type": "markdown",
   "metadata": {
    "slideshow": {
     "slide_type": "slide"
    }
   },
   "source": [
    "### Approximation error\n",
    "$$\\frac{2^{2n+1}(n!)^4}{(2n+1)!(2n)!}\\frac{f^{(2n)}(\\xi)}{(2n)!}$$\n",
    "for some $\\xi \\in [-1,1]$ .. or   $[a,b]$\n",
    "- Clearly, error is zero when f can be approxmated by a $2n-1$ degree polynomial\n",
    "- We can always compute factor proportional to $f^{(2n)}(\\xi)$ appearing in error\n",
    "- Even if $f^{(2n)}(\\xi)$ is non-zero, approximation error approaches 0 as $n \\rightarrow \\infty$\n"
   ]
  },
  {
   "cell_type": "code",
   "execution_count": 4,
   "metadata": {
    "scrolled": true,
    "slideshow": {
     "slide_type": "-"
    }
   },
   "outputs": [
    {
     "name": "stdout",
     "output_type": "stream",
     "text": [
      "n= 0 z= 2.0\n",
      "n= 1 z= 0.3333333333333333\n",
      "n= 2 z= 0.007407407407407408\n",
      "n= 3 z= 6.349206349206349e-05\n",
      "n= 4 z= 2.879458661771587e-07\n",
      "n= 5 z= 8.079289174443286e-10\n",
      "n= 6 z= 1.5408688826020251e-12\n",
      "n= 7 z= 2.1274323822907644e-15\n",
      "n= 8 z= 2.2247658899772702e-18\n",
      "n= 9 z= 1.8232464951552934e-21\n",
      "n= 10 z= 1.202510549502238e-24\n",
      "n= 11 z= 6.5205639576676615e-28\n",
      "n= 12 z= 2.958289886276444e-31\n",
      "n= 13 z= 1.1394894376768524e-34\n",
      "n= 14 z= 3.772965358184555e-38\n",
      "n= 15 z= 1.085391438241117e-41\n",
      "n= 16 z= 2.738035350149445e-45\n",
      "n= 17 z= 6.106073849211671e-49\n",
      "n= 18 z= 1.2124581278081642e-52\n",
      "n= 19 z= 2.1573583963921932e-56\n"
     ]
    }
   ],
   "source": [
    "# compute factor proportional to f(2n){ξ} appearing in error\n",
    "import math\n",
    "for n in range(20):\n",
    "    z=(   (2**(2*n+1))*(math.factorial(n)**4) ) /(math.factorial(2*n+1) * math.factorial(2*n)**2)\n",
    "    print('n=', n,  'z=', z)"
   ]
  },
  {
   "cell_type": "markdown",
   "metadata": {
    "slideshow": {
     "slide_type": "slide"
    }
   },
   "source": [
    "### Change of variable for Gauss-Legendre\n",
    "A linear change of variable is necessary to apply Gauss-Legendre quadrature to general intervals $[a, b]$ rather than $[−1, 1]$ \n",
    "\n",
    "This change of interval from $[a, b]$ to $[−1, 1]$ can be done in the following way:\n",
    "\n",
    "$$\n",
    "{\\displaystyle \\int _{a}^{b}f(x)\\,dx={\\frac {b-a}{2}}\\int _{-1}^{1}\n",
    "f\\left({\\frac {(x+1)(b-a)}{2} +a }\\right)\\,dx .}\n",
    "$$\n",
    "\n",
    "Applying n point Gaussian quadrature ${\\displaystyle (x ,w)}$ rule then results in the following approximation:\n",
    "\n",
    "$$\n",
    "\\int _{a}^{b}f(x)\\,dx\n",
    "\\approx {\\frac {b-a}{2}}\\sum _{i=1}^{n}w_{i}\n",
    "f\\left({\\frac {(x_i+1)(b-a)}{2} +a }\\right)\\\n",
    "$$"
   ]
  },
  {
   "cell_type": "markdown",
   "metadata": {
    "slideshow": {
     "slide_type": "slide"
    }
   },
   "source": [
    "### Simple example\n",
    "- Approximate $\\int_{a}^b x^{m} dx$ using Gauss-Legendre\n",
    "- How well does a $n$ point Gauss-Legendre approximate integrals of polynomials of degree $2n-1$?\n",
    "- Exercise: Use Legendre quadrature to approximate the integral of the polynomial $\\int_{-1}^{1}(3x^2+23x^9) dx$ "
   ]
  },
  {
   "cell_type": "code",
   "execution_count": 19,
   "metadata": {
    "slideshow": {
     "slide_type": "-"
    }
   },
   "outputs": [
    {
     "name": "stdout",
     "output_type": "stream",
     "text": [
      "Exact solution, F(b)-F(a):  -8160.0\n",
      "Gauss-Legendre           :  -8159.999999999992\n"
     ]
    }
   ],
   "source": [
    "# from matplotlib import pyplot\n",
    "def quad_leg(f, a=-1, b=1, n=10):\n",
    "    x, w = np.polynomial.legendre.leggauss(n)\n",
    "    Q=np.sum(w * (b-a)/2*f( (x+1)*(b-a)/2+a ) )\n",
    "    return Q\n",
    "\n",
    "# Example:\n",
    "n=4; # number of quadrture nodes\n",
    "m=7; # degree of polynomial\n",
    "a=-4; b=2; # integration bounds\n",
    "def f(x): return x**m   # function to integrate\n",
    "def F(x): return 1/(m+1)*x**(m+1) # antiderivative of f\n",
    "Q= quad_leg(f, a, b, n)\n",
    "print('Exact solution, F(b)-F(a): ', F(b)-F(a))\n",
    "print('Gauss-Legendre           : ', Q.round(16))\n"
   ]
  },
  {
   "cell_type": "markdown",
   "metadata": {
    "slideshow": {
     "slide_type": "slide"
    }
   },
   "source": [
    "### Gauss-Legendre for expectations functions of random variables\n",
    "- Can we make a change of variable so that we can compute the expectation functions of random variables with a general support?\n",
    "$$\n",
    "\\mathbb{E}_{y} [f(y)] = \\int_{\\Omega} f(y)g(y)dy\n",
    "$$\n",
    "- Yes, if we know the inverse cdf for $y$, we can make the change of variable $y=G^{-1}(z)$ with $z = G(y) \\in [0,1]$ \n",
    "- So $ dz = G'(y) dy = g(y) dy $, where $ G(y) $ and $ g(y) $ are cdf and pdf. \n",
    "\n",
    "\n",
    "$$\n",
    "\\mathbb{E}_{y} [f(y)] =\\int_0^1 f\\big(G^{-1}(z)\\big) dz\n",
    "$$\n",
    "\n",
    "- Applying $n$ point Gauss-legendre quadrature for the interval $[a, b]=[0,1]$ with legendre nodes and weights $(x ,w)$  we obtain\n",
    "\n",
    "$$\n",
    "E[f(y)]={\\frac {1}{2}}\\int _{-1}^{1}\n",
    "f\\left({\\frac {G^{-1}(x)+1}{2}}\\right)\\,dx\n",
    "\\approx \n",
    "\\sum _{i=1}^{n}{\\frac {w_{i}}{2}}\n",
    "f\\left({\\frac {G^{-1}(x_i)+1}{2}}\\right)\n",
    "$$\n"
   ]
  },
  {
   "cell_type": "markdown",
   "metadata": {},
   "source": [
    "Kristian: We first use inverse cdf (if known) to transform integral into an integral with domain 0 to 1. This can easily be transformed into an integral from -1 to 1 using the plug-in formula. Afterwards it is straighforward to insert it into the Gauss-Legendre expression."
   ]
  },
  {
   "cell_type": "markdown",
   "metadata": {
    "slideshow": {
     "slide_type": "slide"
    }
   },
   "source": [
    "## Gauss-Hermite Quadrature\n",
    "\n",
    "- Domain $ [-\\infty,\\infty] $  \n",
    "- Weighting $ \\exp(-x^2) $  \n",
    "\n",
    "\n",
    "$$\n",
    "\\int_{-\\infty}^\\infty f(x) \\exp(-x^2)dx = \\sum_{i=1}^{n} \\omega_i f(x_i) + \\frac{n!\\sqrt{\\pi}}{2^n}\\frac{f^{(2n)}(\\xi)}{(2n)!}\n",
    "$$\n",
    "\n",
    "- Nodes and weights come from Hermite polynomials\n",
    "- Good for computing expectation with Normal distribution \n",
    "$$\n",
    "E[f(y)]\n",
    "=(2\\pi\\sigma^2)^{-1/2}\\int_{-\\infty}^{\\infty} f(y)e^{-(y-\\mu)^2/(2\\sigma^2)}dy\n",
    "$$\n",
    "\n",
    "- Normal density is proportional to $\\exp(-x^2)$ after an appropriate change of variable $x=(y-\\mu)/(\\sqrt{2}\\sigma)$ \n",
    "    \n",
    "    so that $y=\\sqrt{2}\\sigma x+ \\mu$ and $dy=\\sqrt{2}\\sigma dx$\n",
    "\n",
    "\n",
    "$$\n",
    "E[f(y)]\n",
    "=\\pi^{-1/2}\\int_{-\\infty}^{\\infty} f(\\sqrt{2}\\sigma x+ \\mu)e^{-x^2}dx\\approx \\pi^{-1/2}\\sum_{i=1}^{n} \\omega_i f(\\sqrt{2}\\sigma x_i+ \\mu)\n",
    "$$\n",
    "\n"
   ]
  },
  {
   "cell_type": "markdown",
   "metadata": {
    "slideshow": {
     "slide_type": "slide"
    }
   },
   "source": [
    "### Gauss-Hermite Quadrature rule for $E[f(y)]$, where $y \\sim N(\\mu,\\sigma)$\n",
    "$$\n",
    "E[f(y)]\n",
    "=\\pi^{-1/2}\\int_{-\\infty}^{\\infty} f(\\sqrt{2}\\sigma x+ \\mu)e^{-x^2}dx\\approx \\pi^{-1/2}\\sum_{i=1}^{n} \\omega_i f(\\sqrt{2}\\sigma x_i+ \\mu)\n",
    "$$\n"
   ]
  },
  {
   "cell_type": "code",
   "execution_count": 6,
   "metadata": {
    "slideshow": {
     "slide_type": "-"
    }
   },
   "outputs": [
    {
     "name": "stdout",
     "output_type": "stream",
     "text": [
      "Variance of y =  4.0\n"
     ]
    }
   ],
   "source": [
    "#### Quadrature rule for E[f(y)], where y~N(μ,σ)\n",
    "def quad_herm_norm(f, μ=0, σ=1, n=10): \n",
    "    x, w = np.polynomial.hermite.hermgauss(n)\n",
    "    y=μ+np.sqrt(2)*σ*x\n",
    "    Q=np.sum(f(y)*w)/np.sqrt(np.pi)\n",
    "    return Q\n",
    "\n",
    "μ=1\n",
    "σ=2\n",
    "var_y=quad_herm_norm(lambda x:(x-μ)**2, μ, σ, n=2)\n",
    "print('Variance of y = ',var_y)\n",
    "\n",
    "# exercise: try to compute Kurtosis"
   ]
  },
  {
   "cell_type": "markdown",
   "metadata": {
    "slideshow": {
     "slide_type": "slide"
    }
   },
   "source": [
    "### Comparing Hermite and Legendre for means of functions of normals\n",
    "- Non-central moments $E[x^p]$ of normal variable, $x \\sim N(\\mu,\\sigma^2)$ \n",
    "- Mean of log normal $E[y]=E[\\exp(x)]$"
   ]
  },
  {
   "cell_type": "code",
   "execution_count": 7,
   "metadata": {
    "scrolled": false,
    "slideshow": {
     "slide_type": "-"
    }
   },
   "outputs": [
    {
     "name": "stdout",
     "output_type": "stream",
     "text": [
      "E(x)              2.000000000000000\n",
      "Legendre:         2.000000000000000          Error   0.000000000000000\n",
      "Hermite           2.000000000000000          Error   0.000000000000000\n",
      "\n",
      "E(x^2)            5.000000000000000\n",
      "Legendre:         4.816463750009540          Error  -0.183536249990460\n",
      "Hermite           5.000000000000001          Error   0.000000000000001\n",
      "\n",
      "E(x^3)           14.000000000000000\n",
      "Legendre:        12.898782500057237          Error  -1.101217499942763\n",
      "Hermite          14.000000000000002          Error   0.000000000000002\n",
      "\n",
      "E(x^4)           43.000000000000000\n",
      "Legendre:        36.795033499372302          Error  -6.204966500627698\n",
      "Hermite          43.000000000000007          Error   0.000000000000007\n",
      "\n",
      "E(exp(x))        12.182493960703473\n",
      "Legendre:        10.793507429871763          Error  -1.388986530831710\n",
      "Hermite          12.104696135999644          Error  -0.077797824703829\n",
      "\n"
     ]
    }
   ],
   "source": [
    "import scipy.stats\n",
    "n=3 # TRY: change number of quadrature nodes\n",
    "μ=2; σ=1;   # TRY: change parameters of normal distribution\n",
    "label=['E(x)', 'E(x^2)', 'E(x^3)', 'E(x^4)', 'E(exp(x))']; # Set μ=0 to get central 2nd-4th moments: Variance, Skewness, Kurtorsis\n",
    "f=[lambda x:x, lambda x:x**2, lambda x:x**3, lambda x:x**4, lambda x:np.exp(x)]; \n",
    "true_val=[μ, μ**2+σ**2, μ**3+3*μ*σ**2,   μ**4+6*μ**2*σ**2+3*σ**4, np.exp(μ+ (σ**2)/2)]\n",
    "Ginv = lambda x:  scipy.stats.norm.ppf(x, loc=μ, scale =σ)  # inverse cdf of normal\n",
    "\n",
    "for i, fi in enumerate(f):\n",
    "    Q_leg=quad_leg(f= lambda x: fi(Ginv(x)),a=0,b=1,n=n)\n",
    "    Q_herm=quad_herm_norm(fi, μ, σ, n) \n",
    "    print('%-15s%20.15f'   % (label[i], true_val[i]));\n",
    "    print('%-15s%20.15f%15s%20.15f'   % ('Legendre: ', Q_leg , 'Error', (Q_leg- true_val[i])))\n",
    "    print('%-15s%20.15f%15s%20.15f\\n' % ('Hermite ', Q_herm, 'Error' ,(Q_herm- true_val[i])))"
   ]
  },
  {
   "cell_type": "markdown",
   "metadata": {
    "slideshow": {
     "slide_type": "slide"
    }
   },
   "source": [
    "### Let's compare $E[u(x; \\eta)])$ for $\\ln(x) \\sim N(\\mu, \\sigma)$ for Legendre and  Hermite\n"
   ]
  },
  {
   "cell_type": "code",
   "execution_count": 8,
   "metadata": {
    "scrolled": false,
    "slideshow": {
     "slide_type": "-"
    }
   },
   "outputs": [
    {
     "name": "stdout",
     "output_type": "stream",
     "text": [
      "Gauss-Legendre approx of E[u(y,η=0)]   3.479169620292634\n",
      "Gauss-Hermite  approx of E[u(y,η=0)]   3.481689070338066\n",
      "\n",
      "Gauss-Legendre approx of E[u(y,η=1)]   1.000000000000000\n",
      "Gauss-Hermite  approx of E[u(y,η=1)]   1.000000000000000\n",
      "\n",
      "Gauss-Legendre approx of E[u(y,η=2)]   0.393810310772865\n",
      "Gauss-Hermite  approx of E[u(y,η=2)]   0.393469340287367\n",
      "\n"
     ]
    }
   ],
   "source": [
    "# Example: mean utility of log normal varible, E(u(exp(y))), y ~ N(μ,σ^2)\n",
    "import scipy.stats\n",
    "μ=1; σ=1;    # parameters of log normal distribution\n",
    "\n",
    "n=100   # number of nodes and weigthts\n",
    "Ginv = lambda x:  scipy.stats.norm.ppf(x, loc=μ, scale =σ)  # inverse cdf of normal\n",
    "for η in [0,1,2]:  # utility parameter (η=0: linear, η=1: log, η>1: more risk averse than log)\n",
    "    Q_leg=quad_leg(lambda x: u(np.exp(Ginv(x)), η),a=0,b=1,n=n)\n",
    "    Q_herm=quad_herm_norm(lambda x: u(np.exp(x), η), μ, σ, n) \n",
    "    print('%-15s%20.15f'   % ('Gauss-Legendre approx of E[u(y,η=%d)]', Q_leg) % η)\n",
    "    print('%-15s%20.15f\\n'   % ('Gauss-Hermite  approx of E[u(y,η=%d)]', Q_herm) % η)"
   ]
  },
  {
   "cell_type": "markdown",
   "metadata": {
    "slideshow": {
     "slide_type": "slide"
    }
   },
   "source": [
    "### Example: Consumption-savings problems\n",
    "📖  Deaton, Angus (1991): \"Saving and Liquidity constraints\" *Econometrica*, 1221-1248. ([link to paper](https://www.princeton.edu/~deaton/downloads/Saving_and_Liquidity_Constraints.pdf))\n",
    "\n",
    "📖 Phelps, E. S. (1962). The accumulation of risky capital: A sequential utility analysis. *Econometrica*, 729-743. ([link to paper](https://www.jstor.org/stable/1909322f))\n",
    "\n",
    "- Discount factor $ \\beta=1+\\delta$, where $\\delta$ is the subjective discount rate \n",
    "- Time separable utility of consumption $v(c_t)$ of consumption during the period $ t $, $c_t \\ge 0$\n",
    "- Evolution of assets, $A_{t+1}=R_t(A_t-c_t+y_t)$\n",
    "- Gross return on savings $ R_t $, *can be stochastic* and revealed after consumption decision is made \n",
    "- Income $ y_t \\ge 0 $, *can be stochastic*.\n",
    "- Single state \"Cash on hand\" in the beginning of the period  $t$, $x_t=A_t+y_t$\n",
    "- Implied state transition is $x_{t+1}=R_t(x_t-c_t) + y_{t+1}$\n",
    "- A constraints on borrowing $A_t=x_t-c_t \\ge 0$ and consumption $c_t \\ge 0$ implies that $\\rightarrow c_t \\in [0, x_t]$  \n",
    " \n",
    "\n",
    "- Special cases\n",
    "    - When $R=1$ and $y=0 $ we have the (deterministic) cake eating problem.\n",
    "    - When $R=1$ and $y $ has discrete support we have the stochastic cake eating problem.\n",
    "    - When y is deterministic we have Phelps's model (ECMA, 1962)\n",
    "    - When R is deterministic we have Deaton's model (ECMA, 1991)"
   ]
  },
  {
   "cell_type": "markdown",
   "metadata": {
    "slideshow": {
     "slide_type": "slide"
    }
   },
   "source": [
    "### States, decisions and preferences, and transitions in the MDP framework\n",
    "- Recall our the general framework for the finite horizon problem\n",
    "$$\n",
    "V_t(s_t)=\\max_{d_t \\in D(s_t)} \\big[u_t(s_t, d_t) + \\beta \\int V_{t+1}(s_{t+1})p(ds_{t+1}|s_t, d_t)  \\big]\n",
    "$$\n",
    "\n",
    "- **States:**  Single state, cash on hand $s_t = x_t$. \n",
    "- **Choices:**  Single choice variable $d_t=c_t$ and state dependent choice set $c_t\\in D(x_t)=[0,x_t]$\n",
    "- **Payoffs:** Utility flow only depend on current cake consumption, $u_t(s_t, d_t)=u_t(x_t, c_t)=u(c_t)$\n",
    "- **State transition** $p(s_{t+1}|s_t, d_t) =p(x_{t+1}|x_t, c_t)$ depends on distribution of $y_t$ and $R_t$\n",
    "    - Transition equation $x_{t+1}=R_t(x_t-c_t) + y_{t+1}$\n",
    "    - Like Deaton we assume $R_t=(1+r)$ to be fixed\n",
    "    - We assume $y_t$ has density $g(y_t)$ and is exogenous (does not depend on $x_t$ and $c_t$)"
   ]
  },
  {
   "cell_type": "markdown",
   "metadata": {
    "slideshow": {
     "slide_type": "slide"
    }
   },
   "source": [
    "### Bellman equation for the stochastic problem \n",
    "- Given our specification of states, choices, preferences and beleifs on the previous slide, the Bellman equation for Deaton's consumptions-savings model becomes\n",
    "\n",
    "\\begin{align}\n",
    "V_t(x_t)&=\\max_{c_t \\in [0,x_t]} \\big[u(c_t) + \\beta \\int V_{t+1}(x_{t+1})p(dx_{t+1}|x_t, c_t)  \\big] \\\\\n",
    "&=\\max_{c_t \\in [0,x_t]} \\big[u(c_t) + \\beta \\int V_{t+1}(R_t(x_t-c_t) + y_{t+1})g(y_{t+1})dy_{t+1}  \\big]\n",
    "\\end{align}\n",
    "\n",
    "- For the infinite horizon problem the Bellman equation is defined by the Bellman operator $\\Gamma$\n",
    "$$\n",
    "\\Gamma(V)(x)=\\max_{c_t \\in [0,x_t]} \\big[u(c_t) + \\beta \\int V(\\underbrace{R(x-c) + y'}_{x'(y')})g(y')dy'  \\big]\n",
    "$$\n",
    "and the value function is the unique fixed point $V =\\Gamma(V)$\n",
    "\n",
    "\n",
    "- We let stochastic income $y_t$ be log normal with parameters $\\mu$ and $\\sigma$, i.e. $\\ln(y_t)\\sim N(\\mu, \\sigma^2)$ \n",
    "- Inverse CDF:  $G^{-1}(p)=\\exp(\\mu + \\sigma\\Phi^{-1}(p))$\n",
    "- Income has positive support $y_t > 0 $ and $ \\mathbb{E}(y_t) = \\exp(\\mu + \\sigma^2/2))$  \n",
    "- For backward compatibility with cake eating problem we add $ y=0 $ special case\n",
    "\n"
   ]
  },
  {
   "cell_type": "markdown",
   "metadata": {
    "slideshow": {
     "slide_type": "slide"
    }
   },
   "source": [
    "### Solving stochastic consumption-savings model\n",
    "\n",
    "VFI solution method will still work\n",
    "\n",
    "1. Discretize state space and set the initial values for $ V_0(x) $ at state grid  \n",
    "1. Evaluate Bellman operator to compute $ V_n(x) $ from $ V_{n-1}(x) $, and simultaneously compute the optimal decisions (policy) $ c_n(x) $ at state grid  \n",
    "1. Check for convergence in value function space, repeat the last step if not yet converged\n",
    "\n",
    "\n",
    "**But now need to compute the expectation when calculating the maximand in the Bellman equation**\n",
    "\n",
    "Quadrature!"
   ]
  },
  {
   "cell_type": "markdown",
   "metadata": {
    "slideshow": {
     "slide_type": "slide"
    }
   },
   "source": [
    "### Details on Gauss-Legendre quadrature calculation\n",
    "- We have \n",
    "$$\n",
    "\\mathbb{E}_{x'|x,c}[V(x')]= \\int_{-\\infty}^{\\infty}  V\\left(R(x-c) + y'\\right)g(y')dy' =\\int_0^1 V\\left(R(x-c) + G^{-1}(z')\\right) dz'\n",
    "\\\\ =\\int_0^1 V\\left(R(x-c) + \\exp(\\mu+ \\sigma\\Phi^{-1}(z')\\right) dz' $$\n",
    "where we have used the inverse CDF of $G^{-1}(z)= \\exp(\\mu+ \\sigma\\Phi^{-1}(z))$ to map uniform random variables $z$ in to log normal variables $y=G^{-1}(z)$\n",
    "\n",
    "- This integral can easily solve using Gauss-Legendre for the interval $[a,b]=[0,1]$ \n",
    "$$\n",
    "\\mathbb{E}_{x'|x,c}[V(x')]\n",
    "\\approx \\sum_i \\frac{w_i}{2} V\\left(R(x-c) + \\exp\\left(\\mu+ \\sigma\\Phi^{-1}\\left((q_i+1)/2\\right)\\right)\\right)\n",
    "$$\n",
    "where $\\{q_i,w_i\\}$ are Gauss-Legendre quadrature notes and weights for the interval $[-1,1]$\n",
    "\n",
    "- Gauss-Hermite would be more effective in this case. \n",
    "    - This is a good exercise for you!\n",
    "    - Hint: Make the change of variable $y=\\exp(z)$ so that you need to take the integral over a normally distributed variable, $z$"
   ]
  },
  {
   "cell_type": "markdown",
   "metadata": {
    "slideshow": {
     "slide_type": "slide"
    }
   },
   "source": [
    "### Initialize model class: deaton"
   ]
  },
  {
   "cell_type": "code",
   "execution_count": 9,
   "metadata": {
    "slideshow": {
     "slide_type": "-"
    }
   },
   "outputs": [],
   "source": [
    "import numpy as np\n",
    "from scipy import interpolate # Interpolation routines\n",
    "class deaton():\n",
    "    '''Class to implement deaton's model with log-normally distrubuted income shocks'''\n",
    "    def __init__(self,β=.9, R=1, μ=0, σ=1, η=1, xbar=[0, 10], n_x=50, n_c=100, n_y=10):\n",
    "        '''Initializer'''\n",
    "        # structural parameters\n",
    "        self.β  = β       # Discount factor\n",
    "        self.R  = R      # Returns on savings\n",
    "        self.μ  = μ       # Location parameter for income shock, y (if y is log normal, ln(y) ~ N(μ, σ^2))  \n",
    "        self.σ  = σ       # Scale parameter for income shock, y\n",
    "        self.η  = η       # CRRA utility parameter, (η=0: linear, η=1: log, η>1: more risk averse than log\n",
    "        \n",
    "        # spapces\n",
    "        self.xbar = xbar  # Upper and lower bound on cash on hand\n",
    "        self.n_x = n_x    # Number of grid points for cash on hand\n",
    "        self.n_c = n_c    # Number of grid points for choice grid\n",
    "        self.n_y = n_y    # Number of quadrature points for income\n",
    "\n",
    "        # quadrture grids for y (adjusted weights and nodes)\n",
    "        q, w = np.polynomial.legendre.leggauss(n_y) # legendre quadrture nodes and weights on [-1,1]\n",
    "        Ginv = lambda z:  np.exp(scipy.stats.norm.ppf(z, loc=self.μ, scale =self.σ))  # inverse cdf of log-normal\n",
    "        self.weights=w/2; # change of varibale to adjust to [0,1] interval\n",
    "        self.y = Ginv((q+1)/2) # use change of varibale to adjust nodes to [0,1] interval and use Ginv to obntain y\n",
    "        \n",
    "        # grids for x and c (adjusted to satisfy constraints)\n",
    "        self.xbar[0] = np.maximum(np.finfo(float).eps, self.xbar[0]);  # truncate lower bound at smallest positive float number\n",
    "        self.x = np.linspace(self.xbar[0],self.xbar[1],n_x).reshape((n_x,1)) # grid for state space (n_w x1 array)\n",
    "        self.c = np.empty((n_x,n_c)) # initilize grid for choices for each staty point \n",
    "        for i in range(n_x): \n",
    "            # make grid between that satisfies the constraint, c\\in[0,x[i]] \n",
    "            self.c[i,:] = np.linspace(self.xbar[0],self.x[i],n_c).reshape((1,n_c)) "
   ]
  },
  {
   "cell_type": "markdown",
   "metadata": {
    "slideshow": {
     "slide_type": "slide"
    }
   },
   "source": [
    "### Add utility and and bellman to deaton model class"
   ]
  },
  {
   "cell_type": "code",
   "execution_count": 10,
   "metadata": {
    "scrolled": false,
    "slideshow": {
     "slide_type": "-"
    }
   },
   "outputs": [],
   "source": [
    "def crra(self,c): # utility function\n",
    "    '''Utility function, crra'''\n",
    "    if self.η==1:\n",
    "        return np.log(c)\n",
    "    elif self.η>=0:\n",
    "        return (c**(1-self.η) -1)/(1-self.η)\n",
    "\n",
    "def bellman(self,V0):\n",
    "    '''Bellman operator, V0 is one-dim vector of values on state grid'''\n",
    "    interp = interpolate.interp1d(self.x[:,0],V0,  bounds_error=False,fill_value='extrapolate')\n",
    "    EV=0 \n",
    "    for i, y_i in enumerate(self.y): # compte expectation wrt to shocks to future state\n",
    "        x1=self.R*(self.x-self.c) + y_i # next period x, conditional of w and c, shock, nW x nC\n",
    "        EV+=self.weights[i]*interp(x1);\n",
    "    matV1 = self.u(self.c) + self.β * EV        \n",
    "    i_max= np.argmax(matV1,axis=1); # (column) idex of optimal choices\n",
    "    V1 = matV1[np.arange(self.n_x),i_max]  \n",
    "    c1 = self.c[np.arange(self.n_x),i_max] \n",
    "    return V1, c1\n",
    "    \n",
    "# Add the crra utility function and bellman deaton class\n",
    "deaton.u = crra\n",
    "deaton.bellman = bellman"
   ]
  },
  {
   "cell_type": "markdown",
   "metadata": {
    "slideshow": {
     "slide_type": "slide"
    }
   },
   "source": [
    "### dpsolver class: Solver (VFI and backward induction)"
   ]
  },
  {
   "cell_type": "code",
   "execution_count": 11,
   "metadata": {
    "scrolled": false,
    "slideshow": {
     "slide_type": "-"
    }
   },
   "outputs": [],
   "source": [
    "from scipy import interpolate # Interpolation routines\n",
    "from time import process_time\n",
    "class dpsolver():\n",
    "    '''Class to implement deaton's model with log-normally distrubuted income shocks'''\n",
    "    def vfi_T(model, T=100, callback=None):\n",
    "        '''Solves the model using backward induction (VFI with maxiter =T'''\n",
    "        tic = process_time() # Start the stopwatch / counter\n",
    "        V=np.zeros((model.n_x, T+1)) # on first iteration assume consuming everything\n",
    "        c=np.zeros((model.n_x, T+1)) # on first iteration assume consuming everything\n",
    "        for t in range(T-1, 0, -1):\n",
    "            V[:,t-1],c[:,t-1]=model.bellman(V[:,t])\n",
    "            if callback: callback(t,model.x,V, c) # callback for making plots and plotting iterations\n",
    "        else:  # when i went up to maxiter\n",
    "            toc = process_time() # Stop the stopwatch / counter\n",
    "            print(model, 'solved by backward induction using',round(toc-tic, 5), 'seconds')\n",
    "        return V,c\n",
    "    \n",
    "    def vfi(model, maxiter=100, tol=1e-6,callback=None):\n",
    "        '''Solves the model using VFI (successive approximations)'''\n",
    "        tic = process_time() # Start the stopwatch / counter\n",
    "        V0=np.zeros(model.n_x) # on first iteration assume consuming everything\n",
    "        for iter in range(maxiter):\n",
    "            V1,c1=model.bellman(V0)\n",
    "            if callback: callback(iter,model.x,V1, c1, V0) # callback for making plots\n",
    "            if np.max(abs(V1-V0)) < tol:\n",
    "                toc = process_time() # Stop the stopwatch / counter\n",
    "                print(model, 'solved by VFI in', iter, 'iterations using',round(toc-tic, 5), 'seconds')\n",
    "                break\n",
    "            V0=V1\n",
    "        else:  # when i went up to maxiter\n",
    "            print('No convergence: maximum number of iterations achieved!')\n",
    "        return V1,c1\n",
    "    \n",
    "    def iterinfo(iter,model,V1,c=None, V0=0):\n",
    "        print('iter=', iter, '||V1-V0||', np.max(abs(V1-V0)))\n",
    "    \n"
   ]
  },
  {
   "cell_type": "markdown",
   "metadata": {
    "slideshow": {
     "slide_type": "slide"
    }
   },
   "source": [
    "### Routine for plotting value and policy functions"
   ]
  },
  {
   "cell_type": "code",
   "execution_count": 12,
   "metadata": {
    "scrolled": false,
    "slideshow": {
     "slide_type": "-"
    }
   },
   "outputs": [],
   "source": [
    "# function for plotting\n",
    "import matplotlib.pyplot as plt\n",
    "def v_c_plot(x, V, c):\n",
    "    '''Illustrate solution'''\n",
    "    fig1, (ax1,ax2) = plt.subplots(1,2,figsize=(8,4))\n",
    "    ax1.grid(which='both', color='0.65', linestyle='-')\n",
    "    ax2.grid(which='both', color='0.65', linestyle='-')\n",
    "    ax1.set_title('Value function')\n",
    "    ax2.set_title('Policy function')\n",
    "    ax1.set_xlabel('Cash on hand, x')\n",
    "    ax2.set_xlabel('Cash on hand, x')\n",
    "    ax1.set_ylabel('Value function')\n",
    "    ax2.set_ylabel('Policy function')\n",
    "    if len(V.shape)==1: \n",
    "        V=V[:,np.newaxis]\n",
    "        c=c[:,np.newaxis]\n",
    "    for i in range(V.shape[1]):\n",
    "        ax1.plot(x[1:],V[1:,i],color='k',alpha=0.25)\n",
    "        ax2.plot(x[1:],c[1:,i],color='k',alpha=0.25)\n",
    "    # add solutions\n",
    "    ax1.plot(x[1:],V[1:,0],color='r',linewidth=2.5)\n",
    "    ax2.plot(x[1:],c[1:,0],color='r',linewidth=2.5)\n",
    "    plt.show()"
   ]
  },
  {
   "cell_type": "markdown",
   "metadata": {
    "slideshow": {
     "slide_type": "slide"
    }
   },
   "source": [
    "### Let's solve Deaton's model: Counter clockwise \"concavity-cation\" of the consumption function"
   ]
  },
  {
   "cell_type": "code",
   "execution_count": 13,
   "metadata": {
    "scrolled": false
   },
   "outputs": [
    {
     "name": "stdout",
     "output_type": "stream",
     "text": [
      "<__main__.deaton object at 0x000001DC8AFD4F40> solved by backward induction using 0.40625 seconds\n"
     ]
    },
    {
     "data": {
      "image/png": "[encoded data removed]",
      "text/plain": [
       "<Figure size 800x400 with 2 Axes>"
      ]
     },
     "metadata": {},
     "output_type": "display_data"
    },
    {
     "name": "stdout",
     "output_type": "stream",
     "text": [
      "<__main__.deaton object at 0x000001DC8AFD4C10> solved by backward induction using 0.5625 seconds\n"
     ]
    },
    {
     "data": {
      "image/png": "[encoded data removed]",
      "text/plain": [
       "<Figure size 800x400 with 2 Axes>"
      ]
     },
     "metadata": {},
     "output_type": "display_data"
    }
   ],
   "source": [
    "# default inputs  for deaton: β=.9, R=1, μ=0, σ=1, η=1, xbar=[0, 10], n_x=50, n_c=100, n_y=10\n",
    "m1=deaton(β=0.2, R=1.0, μ=1, σ=.1, η=3, xbar=[0, 10], n_x=100, n_c=100, n_y=10); \n",
    "m2=deaton(β=0.7, R=1.0, μ=1, σ=.1, η=3, xbar=[0, 10], n_x=100, n_c=100, n_y=10); \n",
    "\n",
    "#V, c = dpsolver.vfi(m1, maxiter=1000, callback=dpsolver.iterinfo); v_c_plot(m1.x, V, c);\n",
    "V, c = dpsolver.vfi_T(m1, T=100); v_c_plot(m1.x, V, c);\n",
    "V, c = dpsolver.vfi_T(m2, T=100); v_c_plot(m2.x, V, c);"
   ]
  },
  {
   "cell_type": "markdown",
   "metadata": {},
   "source": [
    "The policy function is linear in cash on hand for levels of cash on hand due to liquidity constraints imposed in the model. "
   ]
  },
  {
   "cell_type": "markdown",
   "metadata": {
    "slideshow": {
     "slide_type": "slide"
    }
   },
   "source": [
    "### Let's simulate Deaton's model: Precautionary savings allows consumer to smooth out income shocks"
   ]
  },
  {
   "cell_type": "code",
   "execution_count": 14,
   "metadata": {
    "scrolled": false
   },
   "outputs": [
    {
     "name": "stdout",
     "output_type": "stream",
     "text": [
      "<__main__.deaton object at 0x000001DC8CA4D610> solved by backward induction using 0.26562 seconds\n"
     ]
    },
    {
     "data": {
      "image/png": "[encoded data removed]",
      "text/plain": [
       "<Figure size 640x480 with 1 Axes>"
      ]
     },
     "metadata": {},
     "output_type": "display_data"
    }
   ],
   "source": [
    "def simulate(model,Tsim=99, T=100, A0=0):\n",
    "    V, c = dpsolver.vfi_T(model, T);  \n",
    "    x=model.x; \n",
    "    c_t = np.empty(Tsim)\n",
    "    x_t = np.empty(Tsim)\n",
    "    y_t = np.exp(np.random.normal(loc=model.μ, scale=model.σ, size=Tsim))\n",
    "    x_t[0]=A0+y_t[0];  # initial state\n",
    "    for t in range(Tsim):\n",
    "        c_interp = interpolate.interp1d(x[:,0],c[:,t],  bounds_error=False,fill_value='extrapolate')\n",
    "        c_t[t] = c_interp(x_t[t])  # Use the solution \n",
    "        if t<Tsim-1:\n",
    "            x_t[t+1] = model.R*(x_t[t]-c_t[t]) + y_t[t+1]\n",
    "    return y_t, x_t, c_t\n",
    "\n",
    "# Define model\n",
    "m1=deaton(β=.9, R=1.0, μ=1, σ=.3, η=3, xbar=[0, 20], n_x=100, n_c=150, n_y=10) \n",
    "# Solve and simulate\n",
    "y_t, x_t, c_t = simulate(m1, Tsim=40, T=40, A0=0)\n",
    "plt.plot(c_t, label=\"$c_t$\")       # Consumption\n",
    "plt.plot(y_t, label=\"$y_t$\")       # Income\n",
    "plt.plot(x_t-y_t, label=\"$A_t$\")   # Assets\n",
    "plt.legend()\n",
    "plt.show()    "
   ]
  },
  {
   "cell_type": "markdown",
   "metadata": {
    "slideshow": {
     "slide_type": "slide"
    }
   },
   "source": [
    "### Some lessons from this lecture\n",
    "1. Need to solve the integral to obtain the expected future value conditional current states and choices\n",
    "1. Quadrature methods\n",
    "    - **Gauss Legendre**: effective for computing expectations of functions of random variables where we cannot exploit structure from density but know the inverse cdf\n",
    "    - **Gauss Hermite**: very effective for computing expectations of functions of normally distributed random variables\n",
    "    - Gauss quadrature with $n$ nodes approximate integrals of functions that can be approximated by a $2n-1$ polynomial\n",
    "\n",
    "\n",
    "1. Monte Carlo\n",
    "    - Noisy and not as effective as quadrture in in 1d\n",
    "    - But as we will learn next time Monte Carlo breaks the curse of dimensionality for multidimensional integration \n",
    "\n",
    "\n",
    "3. Consumption and savings with stochastic income (Deatons model)\n",
    "    - Used Legendre quadrature to compute expectations of value function wrt to log-normal distribution of income shocks \n",
    "    - Risk averse consumers (with high $\\eta$) who are subject to income uncertainty, save a buffer against bad income shocks. \n",
    "    - This gives consumer smoother consumption profiles \n",
    "    - We call this the precautionary savings motive. "
   ]
  }
 ],
 "metadata": {
  "celltoolbar": "Slideshow",
  "date": 1612589586.079556,
  "download_nb": false,
  "filename": "01_dp_intro.rst",
  "filename_with_path": "01_dp_intro",
  "kernelspec": {
   "display_name": "Python 3 (ipykernel)",
   "language": "python",
   "name": "python3"
  },
  "language_info": {
   "codemirror_mode": {
    "name": "ipython",
    "version": 3
   },
   "file_extension": ".py",
   "mimetype": "text/x-python",
   "name": "python",
   "nbconvert_exporter": "python",
   "pygments_lexer": "ipython3",
   "version": "3.9.16"
  },
  "title": "Dynamic Programming and Structural Econometrics #1"
 },
 "nbformat": 4,
 "nbformat_minor": 4
}
