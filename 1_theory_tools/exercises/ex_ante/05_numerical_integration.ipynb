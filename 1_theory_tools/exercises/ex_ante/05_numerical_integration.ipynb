{
 "cells": [
  {
   "cell_type": "code",
   "execution_count": 1,
   "metadata": {},
   "outputs": [],
   "source": [
    "# magics: ensures that any changes to the modules loaded below will be re-loaded automatically\n",
    "%load_ext autoreload\n",
    "%autoreload 2\n",
    "\n",
    "# load packages\n",
    "import numpy as np\n",
    "import tools"
   ]
  },
  {
   "cell_type": "markdown",
   "metadata": {},
   "source": [
    "# Exercise 5: Numerical Integration\n",
    "Consider the numerical integration problem\n",
    "$$\n",
    "\\int x^{2}dg(x),\\,\\,\\,x\\sim\\mathcal{N}(0,1)\n",
    "$$\n",
    "\n",
    "Note that we can analytically show that for $f(x)=x^{2}$ (it is the\n",
    "variance of $x$)\n",
    "$$\n",
    "\\int f(x)g(x)dx=1\n",
    "$$"
   ]
  },
  {
   "cell_type": "code",
   "execution_count": 2,
   "metadata": {},
   "outputs": [],
   "source": [
    "# Define the function \n",
    "f = lambda x: x**2"
   ]
  },
  {
   "cell_type": "markdown",
   "metadata": {},
   "source": [
    "### 1. Approximate the integral using *Monte Carlo integration*."
   ]
  },
  {
   "cell_type": "code",
   "execution_count": 8,
   "metadata": {},
   "outputs": [
    {
     "name": "stdout",
     "output_type": "stream",
     "text": [
      "0.997344436151275\n"
     ]
    }
   ],
   "source": [
    "num_draws = 500 # number of MC draws\n",
    "np.random.seed(2023) # set seed to make sure the results are the same\n",
    "x_mc = np.random.normal(size=num_draws) # draw from standard normal distribution\n",
    "Efx_MC = np.mean(f(x_mc))\n",
    "print(Efx_MC)"
   ]
  },
  {
   "cell_type": "code",
   "execution_count": 4,
   "metadata": {},
   "outputs": [],
   "source": [
    "#Create a function for later use\n",
    "def integrate_MC(f,num_points):\n",
    "    np.random.seed(2023)\n",
    "    x = np.random.normal(size=num_points) \n",
    "    return np.mean(f(x))"
   ]
  },
  {
   "cell_type": "markdown",
   "metadata": {},
   "source": [
    "### 2. Approximate the integral using *Gauss-Hermite integration*."
   ]
  },
  {
   "attachments": {},
   "cell_type": "markdown",
   "metadata": {},
   "source": [
    "Gauss-Hermite approximation:\n",
    "\n",
    "\\begin{align*}\n",
    "    \\int_{-\\infty}^{\\infty} f(x) \\exp\\{-x^2\\} dx = \\sum^n_{i=1} \\omega_{gauss,i} f(x_{gauss,i}) +\\text{error term}\n",
    "\\end{align*}\n",
    "\n",
    "Hint: The goal is to rewrite the integration problem ,$\\int x^{2}dg(x),\\,\\,\\,x\\sim\\mathcal{N}(0,1)\n",
    "$, with a change of variable such that $g(z) = \\exp\\{-x^2\\}$, where z is the change of variable that makes the approximation work."
   ]
  },
  {
   "cell_type": "code",
   "execution_count": 21,
   "metadata": {},
   "outputs": [
    {
     "name": "stdout",
     "output_type": "stream",
     "text": [
      "[-2.02018287e+00 -9.58572465e-01  2.87748236e-16  9.58572465e-01\n",
      "  2.02018287e+00] [0.01995324 0.39361932 0.94530872 0.39361932 0.01995324]\n",
      "0.8862269254527587\n"
     ]
    }
   ],
   "source": [
    "num_points = 5\n",
    "\n",
    "# get \"raw\" hermite nodes and weights\n",
    "x_gauss,w_gauss = tools.gauss_hermite(num_points)\n",
    "print(x_gauss,w_gauss)\n",
    "# adjust accordingly to the distribution X is drawn from. Here standard Gaussian\n",
    "\n",
    "T = lambda x: np.exp(-x)\n",
    "\n",
    "# evaluate expectation\n",
    "Efx_gauss = f(x_gauss) @ w_gauss\n",
    "print(Efx_gauss)"
   ]
  },
  {
   "cell_type": "code",
   "execution_count": 6,
   "metadata": {},
   "outputs": [],
   "source": [
    "# construct function for use below\n",
    "def integrate_gauss(f,num_points):\n",
    "    x_gauss,w_gauss = tools.gauss_hermite(num_points)\n",
    "    return #fill in"
   ]
  },
  {
   "cell_type": "markdown",
   "metadata": {},
   "source": [
    "### 3. Compare the two methods across various number of grid points. How few grid points do you need for Gauss-Hermite integration?"
   ]
  },
  {
   "cell_type": "code",
   "execution_count": 7,
   "metadata": {},
   "outputs": [
    {
     "name": "stdout",
     "output_type": "stream",
     "text": [
      "Number of grid points:    1\n",
      "MC:    0.5065\n"
     ]
    },
    {
     "ename": "TypeError",
     "evalue": "unsupported format string passed to NoneType.__format__",
     "output_type": "error",
     "traceback": [
      "\u001b[1;31m---------------------------------------------------------------------------\u001b[0m",
      "\u001b[1;31mTypeError\u001b[0m                                 Traceback (most recent call last)",
      "\u001b[1;32m~\\AppData\\Local\\Temp\\ipykernel_9320\\3923693173.py\u001b[0m in \u001b[0;36m<module>\u001b[1;34m\u001b[0m\n\u001b[0;32m      9\u001b[0m     \u001b[0mprint\u001b[0m\u001b[1;33m(\u001b[0m\u001b[1;34mf'MC:    {integrate_MC(f,num):.4f}'\u001b[0m\u001b[1;33m)\u001b[0m\u001b[1;33m\u001b[0m\u001b[1;33m\u001b[0m\u001b[0m\n\u001b[0;32m     10\u001b[0m     \u001b[1;32mif\u001b[0m \u001b[0mnum\u001b[0m \u001b[1;33m<\u001b[0m \u001b[1;36m1500\u001b[0m\u001b[1;33m:\u001b[0m\u001b[1;33m\u001b[0m\u001b[1;33m\u001b[0m\u001b[0m\n\u001b[1;32m---> 11\u001b[1;33m         \u001b[0mprint\u001b[0m\u001b[1;33m(\u001b[0m\u001b[1;34mf'gauss: {integrate_gauss(f,num):.4f}'\u001b[0m\u001b[1;33m)\u001b[0m\u001b[1;33m\u001b[0m\u001b[1;33m\u001b[0m\u001b[0m\n\u001b[0m\u001b[0;32m     12\u001b[0m     \u001b[0mprint\u001b[0m\u001b[1;33m(\u001b[0m\u001b[1;34mf'True value:  {1:.4f}'\u001b[0m\u001b[1;33m)\u001b[0m\u001b[1;33m\u001b[0m\u001b[1;33m\u001b[0m\u001b[0m\n\u001b[0;32m     13\u001b[0m     \u001b[0mt1\u001b[0m \u001b[1;33m=\u001b[0m \u001b[0mtime\u001b[0m\u001b[1;33m.\u001b[0m\u001b[0mtime\u001b[0m\u001b[1;33m(\u001b[0m\u001b[1;33m)\u001b[0m \u001b[1;31m# set the ending time\u001b[0m\u001b[1;33m\u001b[0m\u001b[1;33m\u001b[0m\u001b[0m\n",
      "\u001b[1;31mTypeError\u001b[0m: unsupported format string passed to NoneType.__format__"
     ]
    }
   ],
   "source": [
    "num_array = [1,2,3,10,50,100,1000,3000,900000]\n",
    "\n",
    "# We check the time\n",
    "import time\n",
    "\n",
    "for i,num in enumerate(num_array):   # i is the index, and num is the corresponding value: num_array[i]=num\n",
    "    t0 = time.time()  # set the starting time\n",
    "    print(f'Number of grid points:    {num}')\n",
    "    print(f'MC:    {integrate_MC(f,num):.4f}')\n",
    "    if num < 1500:\n",
    "        print(f'gauss: {integrate_gauss(f,num):.4f}')\n",
    "    print(f'True value:  {1:.4f}')\n",
    "    t1 = time.time() # set the ending time\n",
    "    print(f'time: {t1-t0:.8} seconds') # print the total time\n",
    "    print(f'')"
   ]
  },
  {
   "cell_type": "markdown",
   "metadata": {},
   "source": [
    "### 4. Change the function f and see what happens."
   ]
  },
  {
   "cell_type": "code",
   "execution_count": null,
   "metadata": {},
   "outputs": [],
   "source": [
    "num_array = [1,2,3,4,5,10,50,100,500,3000]\n",
    "\n",
    "# New function\n",
    "g = lambda x: np.exp(x)\n",
    "\n",
    "for i,num in enumerate(num_array): # i is the index, and num is the corresponding value: num_array[i]=num\n",
    "    print(f'Number of grid points:    {num}')\n",
    "    if num < 1500:\n",
    "        print(f'gauss: {integrate_gauss(g,num):.4f}')\n",
    "    print(f'MC:    {integrate_MC(g,num):.4f}')\n",
    "    print(f'True value:  {np.exp(1/2):.4f}')\n",
    "    print(f'')"
   ]
  }
 ],
 "metadata": {
  "kernelspec": {
   "display_name": "base",
   "language": "python",
   "name": "python3"
  },
  "language_info": {
   "codemirror_mode": {
    "name": "ipython",
    "version": 3
   },
   "file_extension": ".py",
   "mimetype": "text/x-python",
   "name": "python",
   "nbconvert_exporter": "python",
   "pygments_lexer": "ipython3",
   "version": "3.9.16"
  },
  "vscode": {
   "interpreter": {
    "hash": "d23f3ceec305a45481076084313530cecc6283a24046b34365f00383ab0a81b1"
   }
  }
 },
 "nbformat": 4,
 "nbformat_minor": 4
}
