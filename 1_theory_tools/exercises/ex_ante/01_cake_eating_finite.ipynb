{
 "cells": [
  {
   "cell_type": "code",
   "execution_count": 1,
   "metadata": {},
   "outputs": [],
   "source": [
    "# Load package \n",
    "import numpy as np"
   ]
  },
  {
   "cell_type": "markdown",
   "metadata": {},
   "source": [
    "<h1> Exercise 1: The Simplest Consumption Model (Cake Eating Problem)"
   ]
  },
  {
   "attachments": {},
   "cell_type": "markdown",
   "metadata": {},
   "source": [
    "Consider the simplest consumption-saving model:\n",
    "\n",
    "$$\\begin{align*}\n",
    "    V_1^*(W) &= \\max_{c_1,c_2,\\dots,c_T} \\{ \\sqrt{c_1} +\\beta \\sqrt{c_2}+\\beta^2\\sqrt{c_3}+\\cdots+\\beta^T\\sqrt{c_T} \\} \\\\\n",
    "    & \\text{s.t.} \\\\\n",
    "    W &= c_1 + c_2+\\cdots+c_T \\\\\n",
    "    c_t &\\in \\mathbb{N}_0, \\, \\forall t\n",
    "\\end{align*}$$\n",
    "for $T=3$, $\\beta =0.9$ and $W=5$.\n",
    "\n",
    "We can express this problem with a bellman equation:\n",
    "\n",
    "$$\\begin{align*}\n",
    "    V_t^*(W_t) &= \\max_{0\\leq c_t \\leq W_t} \\{ \\sqrt{c_t} +\\beta V_{t+1}(W_{t+1}) \\} \\\\\n",
    "    & \\text{s.t.} \\\\\n",
    "    W_{t+1} &= W_t -c_t\\\\\n",
    "    c_t &\\in \\mathbb{N}_0, \\, \\forall t\n",
    "\\end{align*}$$\n",
    "\n",
    "Note that in the last period $V_T(W_T) = \\max_{0\\leq c_T \\leq W_T}\\{ \\sqrt{c_T} \\}$ because there is no tomorrow, and it is therefore optimal to eat everything, $c_T = W_T$."
   ]
  },
  {
   "cell_type": "markdown",
   "metadata": {},
   "source": [
    "### 1. Solve the model using backwards induction: "
   ]
  },
  {
   "cell_type": "code",
   "execution_count": 2,
   "metadata": {},
   "outputs": [
    {
     "name": "stdout",
     "output_type": "stream",
     "text": [
      "[[0. 0. 0.]\n",
      " [1. 1. 1.]\n",
      " [1. 1. 2.]\n",
      " [2. 2. 3.]\n",
      " [2. 2. 4.]\n",
      " [3. 3. 5.]]\n"
     ]
    }
   ],
   "source": [
    "# 1. Setup \n",
    "beta = 0.9\n",
    "W = 5\n",
    "T = 3\n",
    "\n",
    "# 2. Initialize\n",
    "Vstar_bi = np.nan+np.zeros([W+1,T]) #Make a (W+1)xT matrix of NaNs\n",
    "Cstar_bi = np.nan + np.zeros([W+1,T]) #Make a (W+1)xT matrix of NaNs\n",
    "Cstar_bi[:,T-1] = np.arange(W+1) #Set the last period to be the whole cake\n",
    "Vstar_bi[:,T-1] = np.sqrt(Cstar_bi[:,T-1]) #Compute the value of the last period\n",
    "\n",
    "# 3. solve\n",
    "# Loop over periods backwards\n",
    "for t in reversed(range(T-1)):  #from period T-2, until period 0, backwards  \n",
    "    \n",
    "    #loop over states\n",
    "    for w in range(W+1):\n",
    "        c = np.arange(w+1) # Makes vector with integers from 0 up to w\n",
    "        \n",
    "        w_next=w-c # what is not consumed is saved for next period\n",
    "        \n",
    "        #Because w_next is integers we can use it to map directly into V_next\n",
    "        V_next=Vstar_bi[w_next,T-1] # What is value function in next period with that wealth level.\n",
    "\n",
    "        V_guess = np.sqrt(c)+beta*V_next #(w+1) vector of possible values next period\n",
    "        Vstar_bi[w,t] = np.amax(V_guess) #Find the maximum value\n",
    "        Cstar_bi[w,t] = np.argmax(V_guess) #Find the corresponding consumption (in this case equal to the index of the maximum value)\n",
    "        \n",
    "print(Cstar_bi)"
   ]
  },
  {
   "attachments": {},
   "cell_type": "markdown",
   "metadata": {},
   "source": [
    "### 2. Fill in Exercise_1.py with a function with $\\beta$, $W$ and $T$ as inputs"
   ]
  },
  {
   "attachments": {},
   "cell_type": "markdown",
   "metadata": {},
   "source": [
    "### 3. Import the function and check that it works \n",
    "\n",
    "Notice, C is our policy function. The policy function tells us the optimal way of spending our resources in a given period. "
   ]
  },
  {
   "cell_type": "code",
   "execution_count": 9,
   "metadata": {},
   "outputs": [
    {
     "name": "stdout",
     "output_type": "stream",
     "text": [
      "[[0. 0. 0. 0. 0. 0. 0. 0.]\n",
      " [1. 1. 1. 1. 1. 1. 1. 1.]\n",
      " [1. 1. 1. 1. 1. 1. 1. 2.]\n",
      " [2. 2. 2. 2. 2. 2. 2. 3.]\n",
      " [2. 2. 2. 2. 2. 2. 2. 4.]\n",
      " [3. 3. 3. 3. 3. 3. 3. 5.]] [[0.         0.         0.         0.         0.         0.\n",
      "  0.         0.        ]\n",
      " [1.         1.         1.         1.         1.         1.\n",
      "  1.         1.        ]\n",
      " [1.9        1.9        1.9        1.9        1.9        1.9\n",
      "  1.9        1.41421356]\n",
      " [2.31421356 2.31421356 2.31421356 2.31421356 2.31421356 2.31421356\n",
      "  2.31421356 1.73205081]\n",
      " [2.68700577 2.68700577 2.68700577 2.68700577 2.68700577 2.68700577\n",
      "  2.68700577 2.        ]\n",
      " [3.00484301 3.00484301 3.00484301 3.00484301 3.00484301 3.00484301\n",
      "  3.00484301 2.23606798]]\n"
     ]
    }
   ],
   "source": [
    "from Exercise_1 import solve_backwards\n",
    "\n",
    "beta = 0.9\n",
    "W = 5\n",
    "T = 8\n",
    "\n",
    "C,V = solve_backwards(beta=beta, W=W, T=T)\n",
    "print(C,V)"
   ]
  },
  {
   "cell_type": "markdown",
   "metadata": {},
   "source": [
    "### 4. Use the policy function to simulate how 5 resources now can be spend optimally over 3 periods.    "
   ]
  },
  {
   "cell_type": "code",
   "execution_count": 10,
   "metadata": {},
   "outputs": [
    {
     "ename": "IndexError",
     "evalue": "index 3 is out of bounds for axis 1 with size 3",
     "output_type": "error",
     "traceback": [
      "\u001b[1;31m---------------------------------------------------------------------------\u001b[0m",
      "\u001b[1;31mIndexError\u001b[0m                                Traceback (most recent call last)",
      "\u001b[1;32m~\\AppData\\Local\\Temp\\ipykernel_34008\\2500863722.py\u001b[0m in \u001b[0;36m<module>\u001b[1;34m\u001b[0m\n\u001b[0;32m      5\u001b[0m \u001b[1;32mfor\u001b[0m \u001b[0mt\u001b[0m \u001b[1;32min\u001b[0m \u001b[0mrange\u001b[0m\u001b[1;33m(\u001b[0m\u001b[0mT\u001b[0m\u001b[1;33m)\u001b[0m\u001b[1;33m:\u001b[0m \u001b[1;31m#Loop forwards over periods\u001b[0m\u001b[1;33m\u001b[0m\u001b[1;33m\u001b[0m\u001b[0m\n\u001b[0;32m      6\u001b[0m     \u001b[0mW_now\u001b[0m \u001b[1;33m=\u001b[0m \u001b[0mint\u001b[0m\u001b[1;33m(\u001b[0m\u001b[0mW_now\u001b[0m\u001b[1;33m)\u001b[0m   \u001b[1;31m# change the type to integreger 0,1,2,3 and so on\u001b[0m\u001b[1;33m\u001b[0m\u001b[1;33m\u001b[0m\u001b[0m\n\u001b[1;32m----> 7\u001b[1;33m     \u001b[0mC_backwards\u001b[0m\u001b[1;33m[\u001b[0m\u001b[0mt\u001b[0m\u001b[1;33m]\u001b[0m\u001b[1;33m=\u001b[0m\u001b[0mCstar_bi\u001b[0m\u001b[1;33m[\u001b[0m\u001b[0mW_now\u001b[0m\u001b[1;33m,\u001b[0m\u001b[0mt\u001b[0m\u001b[1;33m]\u001b[0m \u001b[1;31m# Again we use indices to map into Cstar_bi\u001b[0m\u001b[1;33m\u001b[0m\u001b[1;33m\u001b[0m\u001b[0m\n\u001b[0m\u001b[0;32m      8\u001b[0m     \u001b[1;31m#update w\u001b[0m\u001b[1;33m\u001b[0m\u001b[1;33m\u001b[0m\u001b[0m\n\u001b[0;32m      9\u001b[0m     \u001b[0mW_next\u001b[0m\u001b[1;33m=\u001b[0m\u001b[0mW_now\u001b[0m\u001b[1;33m-\u001b[0m\u001b[0mC_backwards\u001b[0m\u001b[1;33m[\u001b[0m\u001b[0mt\u001b[0m\u001b[1;33m]\u001b[0m\u001b[1;33m\u001b[0m\u001b[1;33m\u001b[0m\u001b[0m\n",
      "\u001b[1;31mIndexError\u001b[0m: index 3 is out of bounds for axis 1 with size 3"
     ]
    }
   ],
   "source": [
    "beta = 0.9\n",
    "W = 5\n",
    "T = 3\n",
    "\n",
    "# 4. simulate\n",
    "C_backwards = np.empty(T) #Make an empty vector of length T to store optimal consumption in\n",
    "W_now = W #Set the initial cake size to W\n",
    "\n",
    "for t in range(T): #Loop forwards over periods\n",
    "    W_now = int(W_now)   # change the type to integreger 0,1,2,3 and so on\n",
    "    C_backwards[t]=Cstar_bi[W_now,t] # Again we use indices to map into Cstar_bi\n",
    "    #update w\n",
    "    W_next=W_now-C_backwards[t]\n",
    "    W_now=W_next\n",
    "\n",
    "print(C_backwards)"
   ]
  },
  {
   "attachments": {},
   "cell_type": "markdown",
   "metadata": {},
   "source": [
    "### 5. Solve the model for $T = 10$."
   ]
  },
  {
   "cell_type": "code",
   "execution_count": 15,
   "metadata": {},
   "outputs": [],
   "source": [
    "# 1. Setup \n",
    "beta = 1\n",
    "W = 10\n",
    "T = 6\n",
    "\n",
    "# 2. - 3. Solve \n",
    "C10, V10 = solve_backwards(beta,W,T)  # call function"
   ]
  },
  {
   "attachments": {},
   "cell_type": "markdown",
   "metadata": {},
   "source": [
    "Simulate $C_1$, $C_2$,...,$C_{10}$ using the policy function found in 5) and W=5"
   ]
  },
  {
   "cell_type": "code",
   "execution_count": 16,
   "metadata": {},
   "outputs": [
    {
     "name": "stdout",
     "output_type": "stream",
     "text": [
      "Solution for C with T = 6 and W = 10 : C = [5. 2. 1. 1. 0. 1.]\n"
     ]
    }
   ],
   "source": [
    "# Define function to simulate\n",
    "def simulate(Cstar,T,W):\n",
    "    C_backwards = np.empty(T)\n",
    "    W_now = W\n",
    "    for t in range(T):\n",
    "        W_now = int(W_now)   # change the type to integreger 0,1,2,3 and so on\n",
    "        C_backwards[t]=Cstar[W_now,t]\n",
    "        #update w\n",
    "        W_next=W_now-C_backwards[t]\n",
    "        W_now=W_next\n",
    "        \n",
    "    return C_backwards\n",
    "\n",
    "# 4. Simulate\n",
    "C_sim = simulate(C10,T,W)  # Call function\n",
    "        \n",
    "print('Solution for C with T =',T,'and W =', W , ': C =',C_sim)"
   ]
  },
  {
   "attachments": {},
   "cell_type": "markdown",
   "metadata": {},
   "source": [
    "Play around with W, $\\beta$ and see the results. Are the results inline with your intuition?"
   ]
  }
 ],
 "metadata": {
  "kernelspec": {
   "display_name": "base",
   "language": "python",
   "name": "python3"
  },
  "language_info": {
   "codemirror_mode": {
    "name": "ipython",
    "version": 3
   },
   "file_extension": ".py",
   "mimetype": "text/x-python",
   "name": "python",
   "nbconvert_exporter": "python",
   "pygments_lexer": "ipython3",
   "version": "3.9.16"
  },
  "vscode": {
   "interpreter": {
    "hash": "e426bf05754cca8d7bd83a0dce81a672af178a75fe45d0c3ca2f6c8ec8bbe319"
   }
  }
 },
 "nbformat": 4,
 "nbformat_minor": 4
}
